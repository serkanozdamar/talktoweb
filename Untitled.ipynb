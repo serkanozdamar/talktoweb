{
 "cells": [
  {
   "cell_type": "code",
   "execution_count": 3,
   "id": "82c6195d-2223-4f0c-88e5-8b8da874c7de",
   "metadata": {},
   "outputs": [
    {
     "data": {
      "text/plain": [
       "6"
      ]
     },
     "execution_count": 3,
     "metadata": {},
     "output_type": "execute_result"
    }
   ],
   "source": [
    "import random\n",
    "\n",
    "rand_int = random.randint(4, 50)\n",
    "rand_int"
   ]
  },
  {
   "cell_type": "code",
   "execution_count": 5,
   "id": "27ffecab-e789-4879-b3c2-b64df5935ec1",
   "metadata": {},
   "outputs": [
    {
     "name": "stdout",
     "output_type": "stream",
     "text": [
      "Requirement already satisfied: numpy in c:\\users\\tekin\\projects\\talktoweb\\.venv\\lib\\site-packages (2.2.3)\n"
     ]
    },
    {
     "data": {
      "text/plain": [
       "10"
      ]
     },
     "execution_count": 5,
     "metadata": {},
     "output_type": "execute_result"
    }
   ],
   "source": [
    "!pip install numpy\n",
    "\n",
    "import numpy as np\n",
    "\n",
    "a = np.random.randint(100)\n",
    "a"
   ]
  },
  {
   "cell_type": "code",
   "execution_count": 8,
   "id": "a3db4856-7d1d-43c5-8c44-b10772d01622",
   "metadata": {},
   "outputs": [
    {
     "data": {
      "text/plain": [
       "0.6575434958987321"
      ]
     },
     "execution_count": 8,
     "metadata": {},
     "output_type": "execute_result"
    }
   ],
   "source": [
    "\n",
    "x = np.random.rand()\n",
    "x"
   ]
  },
  {
   "cell_type": "code",
   "execution_count": 10,
   "id": "ce8b218c-8709-44a1-9f3b-2aa921f8d6f8",
   "metadata": {},
   "outputs": [
    {
     "data": {
      "text/plain": [
       "array([30, 96, 42, 19, 24, 81, 76, 78, 94, 65], dtype=int32)"
      ]
     },
     "execution_count": 10,
     "metadata": {},
     "output_type": "execute_result"
    }
   ],
   "source": [
    "from numpy import random\n",
    "\n",
    "arr = random.randint(10, 100, size=10)\n",
    "arr"
   ]
  },
  {
   "cell_type": "code",
   "execution_count": 12,
   "id": "c348d21a-d476-467b-9506-9f4f5fd99995",
   "metadata": {},
   "outputs": [
    {
     "data": {
      "text/plain": [
       "array([[[52, 15, 86, 78, 11,  0, 30],\n",
       "        [72, 99, 26, 85, 90, 32, 50],\n",
       "        [97, 68, 73, 70, 84, 28, 52],\n",
       "        [94, 90, 30, 11, 26, 47,  7],\n",
       "        [58, 69, 22,  3, 57, 65, 57]],\n",
       "\n",
       "       [[ 6, 56, 64, 53, 60, 98, 71],\n",
       "        [52, 17, 48, 62, 57, 44, 94],\n",
       "        [59, 92, 36, 51, 88, 75, 11],\n",
       "        [32, 21, 59, 23, 40, 12, 71],\n",
       "        [48, 63, 25, 93, 64, 52,  9]],\n",
       "\n",
       "       [[94, 44, 91, 35, 46, 61, 66],\n",
       "        [48, 45, 79, 67, 54, 43,  6],\n",
       "        [39, 39, 10, 62, 11, 93, 53],\n",
       "        [28, 87, 85,  0, 18,  9, 87],\n",
       "        [17, 45, 54,  4, 34, 96, 31]]], dtype=int32)"
      ]
     },
     "execution_count": 12,
     "metadata": {},
     "output_type": "execute_result"
    }
   ],
   "source": [
    "x = random.randint(100, size=(3, 5, 7))\n",
    "x"
   ]
  },
  {
   "cell_type": "code",
   "execution_count": null,
   "id": "5d4e681b-db91-4c76-bba7-2ecb4c098ace",
   "metadata": {},
   "outputs": [],
   "source": []
  }
 ],
 "metadata": {
  "kernelspec": {
   "display_name": "Python 3 (ipykernel)",
   "language": "python",
   "name": "python3"
  },
  "language_info": {
   "codemirror_mode": {
    "name": "ipython",
    "version": 3
   },
   "file_extension": ".py",
   "mimetype": "text/x-python",
   "name": "python",
   "nbconvert_exporter": "python",
   "pygments_lexer": "ipython3",
   "version": "3.13.2"
  }
 },
 "nbformat": 4,
 "nbformat_minor": 5
}
