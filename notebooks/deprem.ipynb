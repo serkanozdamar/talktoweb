{
 "cells": [
  {
   "cell_type": "code",
   "execution_count": 5,
   "id": "initial_id",
   "metadata": {
    "ExecuteTime": {
     "end_time": "2025-04-28T16:13:33.798055Z",
     "start_time": "2025-04-28T16:12:52.768058Z"
    },
    "collapsed": true,
    "jupyter": {
     "outputs_hidden": true
    }
   },
   "outputs": [
    {
     "name": "stdout",
     "output_type": "stream",
     "text": [
      "Requirement already satisfied: beautifulsoup4==4.13.4 in c:\\users\\tekin\\projects\\talktoweb\\.venv\\lib\\site-packages (4.13.4)\n",
      "Requirement already satisfied: soupsieve>1.2 in c:\\users\\tekin\\projects\\talktoweb\\.venv\\lib\\site-packages (from beautifulsoup4==4.13.4) (2.7)\n",
      "Requirement already satisfied: typing-extensions>=4.0.0 in c:\\users\\tekin\\projects\\talktoweb\\.venv\\lib\\site-packages (from beautifulsoup4==4.13.4) (4.13.2)\n",
      "Requirement already satisfied: branca==0.8.1 in c:\\users\\tekin\\projects\\talktoweb\\.venv\\lib\\site-packages (0.8.1)\n",
      "Requirement already satisfied: jinja2>=3 in c:\\users\\tekin\\projects\\talktoweb\\.venv\\lib\\site-packages (from branca==0.8.1) (3.1.6)\n",
      "Requirement already satisfied: MarkupSafe>=2.0 in c:\\users\\tekin\\projects\\talktoweb\\.venv\\lib\\site-packages (from jinja2>=3->branca==0.8.1) (3.0.2)\n",
      "Requirement already satisfied: certifi==2025.4.26 in c:\\users\\tekin\\projects\\talktoweb\\.venv\\lib\\site-packages (2025.4.26)\n",
      "Requirement already satisfied: charset-normalizer==3.4.1 in c:\\users\\tekin\\projects\\talktoweb\\.venv\\lib\\site-packages (3.4.1)\n",
      "Requirement already satisfied: folium==0.19.5 in c:\\users\\tekin\\projects\\talktoweb\\.venv\\lib\\site-packages (0.19.5)\n",
      "Requirement already satisfied: branca>=0.6.0 in c:\\users\\tekin\\projects\\talktoweb\\.venv\\lib\\site-packages (from folium==0.19.5) (0.8.1)\n",
      "Requirement already satisfied: jinja2>=2.9 in c:\\users\\tekin\\projects\\talktoweb\\.venv\\lib\\site-packages (from folium==0.19.5) (3.1.6)\n",
      "Requirement already satisfied: numpy in c:\\users\\tekin\\projects\\talktoweb\\.venv\\lib\\site-packages (from folium==0.19.5) (2.2.5)\n",
      "Requirement already satisfied: requests in c:\\users\\tekin\\projects\\talktoweb\\.venv\\lib\\site-packages (from folium==0.19.5) (2.32.3)\n",
      "Requirement already satisfied: xyzservices in c:\\users\\tekin\\projects\\talktoweb\\.venv\\lib\\site-packages (from folium==0.19.5) (2025.4.0)\n",
      "Requirement already satisfied: MarkupSafe>=2.0 in c:\\users\\tekin\\projects\\talktoweb\\.venv\\lib\\site-packages (from jinja2>=2.9->folium==0.19.5) (3.0.2)\n",
      "Requirement already satisfied: charset-normalizer<4,>=2 in c:\\users\\tekin\\projects\\talktoweb\\.venv\\lib\\site-packages (from requests->folium==0.19.5) (3.4.1)\n",
      "Requirement already satisfied: idna<4,>=2.5 in c:\\users\\tekin\\projects\\talktoweb\\.venv\\lib\\site-packages (from requests->folium==0.19.5) (3.10)\n",
      "Requirement already satisfied: urllib3<3,>=1.21.1 in c:\\users\\tekin\\projects\\talktoweb\\.venv\\lib\\site-packages (from requests->folium==0.19.5) (2.4.0)\n",
      "Requirement already satisfied: certifi>=2017.4.17 in c:\\users\\tekin\\projects\\talktoweb\\.venv\\lib\\site-packages (from requests->folium==0.19.5) (2025.4.26)\n",
      "Requirement already satisfied: geopandas==1.0.1 in c:\\users\\tekin\\projects\\talktoweb\\.venv\\lib\\site-packages (1.0.1)\n",
      "Requirement already satisfied: numpy>=1.22 in c:\\users\\tekin\\projects\\talktoweb\\.venv\\lib\\site-packages (from geopandas==1.0.1) (2.2.5)\n",
      "Requirement already satisfied: pyogrio>=0.7.2 in c:\\users\\tekin\\projects\\talktoweb\\.venv\\lib\\site-packages (from geopandas==1.0.1) (0.10.0)\n",
      "Requirement already satisfied: packaging in c:\\users\\tekin\\projects\\talktoweb\\.venv\\lib\\site-packages (from geopandas==1.0.1) (25.0)\n",
      "Requirement already satisfied: pandas>=1.4.0 in c:\\users\\tekin\\projects\\talktoweb\\.venv\\lib\\site-packages (from geopandas==1.0.1) (2.2.3)\n",
      "Requirement already satisfied: pyproj>=3.3.0 in c:\\users\\tekin\\projects\\talktoweb\\.venv\\lib\\site-packages (from geopandas==1.0.1) (3.7.1)\n",
      "Requirement already satisfied: shapely>=2.0.0 in c:\\users\\tekin\\projects\\talktoweb\\.venv\\lib\\site-packages (from geopandas==1.0.1) (2.1.0)\n",
      "Requirement already satisfied: python-dateutil>=2.8.2 in c:\\users\\tekin\\projects\\talktoweb\\.venv\\lib\\site-packages (from pandas>=1.4.0->geopandas==1.0.1) (2.9.0.post0)\n",
      "Requirement already satisfied: pytz>=2020.1 in c:\\users\\tekin\\projects\\talktoweb\\.venv\\lib\\site-packages (from pandas>=1.4.0->geopandas==1.0.1) (2025.2)\n",
      "Requirement already satisfied: tzdata>=2022.7 in c:\\users\\tekin\\projects\\talktoweb\\.venv\\lib\\site-packages (from pandas>=1.4.0->geopandas==1.0.1) (2025.2)\n",
      "Requirement already satisfied: certifi in c:\\users\\tekin\\projects\\talktoweb\\.venv\\lib\\site-packages (from pyogrio>=0.7.2->geopandas==1.0.1) (2025.4.26)\n",
      "Requirement already satisfied: six>=1.5 in c:\\users\\tekin\\projects\\talktoweb\\.venv\\lib\\site-packages (from python-dateutil>=2.8.2->pandas>=1.4.0->geopandas==1.0.1) (1.17.0)\n",
      "Requirement already satisfied: idna==3.10 in c:\\users\\tekin\\projects\\talktoweb\\.venv\\lib\\site-packages (3.10)\n",
      "Requirement already satisfied: Jinja2==3.1.6 in c:\\users\\tekin\\projects\\talktoweb\\.venv\\lib\\site-packages (3.1.6)\n",
      "Requirement already satisfied: MarkupSafe>=2.0 in c:\\users\\tekin\\projects\\talktoweb\\.venv\\lib\\site-packages (from Jinja2==3.1.6) (3.0.2)\n",
      "Requirement already satisfied: lxml==5.4.0 in c:\\users\\tekin\\projects\\talktoweb\\.venv\\lib\\site-packages (5.4.0)\n",
      "Requirement already satisfied: MarkupSafe==3.0.2 in c:\\users\\tekin\\projects\\talktoweb\\.venv\\lib\\site-packages (3.0.2)\n",
      "Requirement already satisfied: numpy==2.2.5 in c:\\users\\tekin\\projects\\talktoweb\\.venv\\lib\\site-packages (2.2.5)\n",
      "Requirement already satisfied: packaging==25.0 in c:\\users\\tekin\\projects\\talktoweb\\.venv\\lib\\site-packages (25.0)\n",
      "Requirement already satisfied: pandas==2.2.3 in c:\\users\\tekin\\projects\\talktoweb\\.venv\\lib\\site-packages (2.2.3)\n",
      "Requirement already satisfied: numpy>=1.26.0 in c:\\users\\tekin\\projects\\talktoweb\\.venv\\lib\\site-packages (from pandas==2.2.3) (2.2.5)\n",
      "Requirement already satisfied: python-dateutil>=2.8.2 in c:\\users\\tekin\\projects\\talktoweb\\.venv\\lib\\site-packages (from pandas==2.2.3) (2.9.0.post0)\n",
      "Requirement already satisfied: pytz>=2020.1 in c:\\users\\tekin\\projects\\talktoweb\\.venv\\lib\\site-packages (from pandas==2.2.3) (2025.2)\n",
      "Requirement already satisfied: tzdata>=2022.7 in c:\\users\\tekin\\projects\\talktoweb\\.venv\\lib\\site-packages (from pandas==2.2.3) (2025.2)\n",
      "Requirement already satisfied: six>=1.5 in c:\\users\\tekin\\projects\\talktoweb\\.venv\\lib\\site-packages (from python-dateutil>=2.8.2->pandas==2.2.3) (1.17.0)\n",
      "Requirement already satisfied: pyogrio==0.10.0 in c:\\users\\tekin\\projects\\talktoweb\\.venv\\lib\\site-packages (0.10.0)\n",
      "Requirement already satisfied: certifi in c:\\users\\tekin\\projects\\talktoweb\\.venv\\lib\\site-packages (from pyogrio==0.10.0) (2025.4.26)\n",
      "Requirement already satisfied: numpy in c:\\users\\tekin\\projects\\talktoweb\\.venv\\lib\\site-packages (from pyogrio==0.10.0) (2.2.5)\n",
      "Requirement already satisfied: packaging in c:\\users\\tekin\\projects\\talktoweb\\.venv\\lib\\site-packages (from pyogrio==0.10.0) (25.0)\n",
      "Requirement already satisfied: pyproj==3.7.1 in c:\\users\\tekin\\projects\\talktoweb\\.venv\\lib\\site-packages (3.7.1)\n",
      "Requirement already satisfied: certifi in c:\\users\\tekin\\projects\\talktoweb\\.venv\\lib\\site-packages (from pyproj==3.7.1) (2025.4.26)\n",
      "Requirement already satisfied: python-dateutil==2.9.0.post0 in c:\\users\\tekin\\projects\\talktoweb\\.venv\\lib\\site-packages (2.9.0.post0)\n",
      "Requirement already satisfied: six>=1.5 in c:\\users\\tekin\\projects\\talktoweb\\.venv\\lib\\site-packages (from python-dateutil==2.9.0.post0) (1.17.0)\n",
      "Requirement already satisfied: pytz==2025.2 in c:\\users\\tekin\\projects\\talktoweb\\.venv\\lib\\site-packages (2025.2)\n",
      "Requirement already satisfied: requests==2.32.3 in c:\\users\\tekin\\projects\\talktoweb\\.venv\\lib\\site-packages (2.32.3)\n",
      "Requirement already satisfied: charset-normalizer<4,>=2 in c:\\users\\tekin\\projects\\talktoweb\\.venv\\lib\\site-packages (from requests==2.32.3) (3.4.1)\n",
      "Requirement already satisfied: idna<4,>=2.5 in c:\\users\\tekin\\projects\\talktoweb\\.venv\\lib\\site-packages (from requests==2.32.3) (3.10)\n",
      "Requirement already satisfied: urllib3<3,>=1.21.1 in c:\\users\\tekin\\projects\\talktoweb\\.venv\\lib\\site-packages (from requests==2.32.3) (2.4.0)\n",
      "Requirement already satisfied: certifi>=2017.4.17 in c:\\users\\tekin\\projects\\talktoweb\\.venv\\lib\\site-packages (from requests==2.32.3) (2025.4.26)\n",
      "Requirement already satisfied: shapely==2.1.0 in c:\\users\\tekin\\projects\\talktoweb\\.venv\\lib\\site-packages (2.1.0)\n",
      "Requirement already satisfied: numpy>=1.21 in c:\\users\\tekin\\projects\\talktoweb\\.venv\\lib\\site-packages (from shapely==2.1.0) (2.2.5)\n",
      "Requirement already satisfied: six==1.17.0 in c:\\users\\tekin\\projects\\talktoweb\\.venv\\lib\\site-packages (1.17.0)\n",
      "Requirement already satisfied: soupsieve==2.7 in c:\\users\\tekin\\projects\\talktoweb\\.venv\\lib\\site-packages (2.7)\n",
      "Requirement already satisfied: typing_extensions==4.13.2 in c:\\users\\tekin\\projects\\talktoweb\\.venv\\lib\\site-packages (4.13.2)\n",
      "Requirement already satisfied: tzdata==2025.2 in c:\\users\\tekin\\projects\\talktoweb\\.venv\\lib\\site-packages (2025.2)\n",
      "Requirement already satisfied: urllib3==2.4.0 in c:\\users\\tekin\\projects\\talktoweb\\.venv\\lib\\site-packages (2.4.0)\n",
      "Requirement already satisfied: xyzservices==2025.4.0 in c:\\users\\tekin\\projects\\talktoweb\\.venv\\lib\\site-packages (2025.4.0)\n"
     ]
    }
   ],
   "source": [
    "!pip install beautifulsoup4==4.13.4\n",
    "!pip install branca==0.8.1\n",
    "!pip install certifi==2025.4.26\n",
    "!pip install charset-normalizer==3.4.1\n",
    "!pip install folium==0.19.5\n",
    "!pip install geopandas==1.0.1\n",
    "!pip install idna==3.10\n",
    "!pip install Jinja2==3.1.6\n",
    "!pip install lxml==5.4.0\n",
    "!pip install MarkupSafe==3.0.2\n",
    "!pip install numpy==2.2.5\n",
    "!pip install packaging==25.0\n",
    "!pip install pandas==2.2.3\n",
    "!pip install pyogrio==0.10.0\n",
    "!pip install pyproj==3.7.1\n",
    "!pip install python-dateutil==2.9.0.post0\n",
    "!pip install pytz==2025.2\n",
    "!pip install requests==2.32.3\n",
    "!pip install shapely==2.1.0\n",
    "!pip install six==1.17.0\n",
    "!pip install soupsieve==2.7\n",
    "!pip install typing_extensions==4.13.2\n",
    "!pip install tzdata==2025.2\n",
    "!pip install urllib3==2.4.0\n",
    "!pip install xyzservices==2025.4.0"
   ]
  },
  {
   "cell_type": "code",
   "execution_count": 6,
   "id": "28d7701b770eaf0d",
   "metadata": {
    "ExecuteTime": {
     "end_time": "2025-04-28T16:13:34.871312Z",
     "start_time": "2025-04-28T16:13:33.815122Z"
    }
   },
   "outputs": [],
   "source": [
    "from datetime import datetime\n",
    "import folium\n",
    "import requests\n",
    "from bs4 import BeautifulSoup as bs\n",
    "from folium import plugins"
   ]
  },
  {
   "cell_type": "code",
   "execution_count": 7,
   "id": "38437bd40361c757",
   "metadata": {
    "ExecuteTime": {
     "end_time": "2025-04-28T16:13:34.898827Z",
     "start_time": "2025-04-28T16:13:34.894107Z"
    }
   },
   "outputs": [],
   "source": [
    "koordinatList = []\n",
    "buyuklukList = []\n",
    "tarihList = []\n",
    "saatList = []\n",
    "derinlikList = []"
   ]
  },
  {
   "cell_type": "code",
   "execution_count": 8,
   "id": "ae0539d1bf1ff190",
   "metadata": {
    "ExecuteTime": {
     "end_time": "2025-04-28T16:13:34.979086Z",
     "start_time": "2025-04-28T16:13:34.920349Z"
    }
   },
   "outputs": [],
   "source": [
    "r = requests.get('http://www.koeri.boun.edu.tr/scripts/lst0.asp')\n",
    "soup = bs(r.content, 'html.parser')\n",
    "pre_tag = soup.find(\"pre\")\n",
    "text = pre_tag.get_text()"
   ]
  },
  {
   "cell_type": "code",
   "execution_count": 9,
   "id": "d9a9ac2506a2a290",
   "metadata": {
    "ExecuteTime": {
     "end_time": "2025-04-28T16:13:35.007643Z",
     "start_time": "2025-04-28T16:13:34.999717Z"
    }
   },
   "outputs": [],
   "source": [
    "lines = text.splitlines()\n",
    "for line in lines:\n",
    "    if line.strip() and line[0].isdigit():  # Tarih ile başlayan satırları filtrele\n",
    "        tarih = line[0:10].strip()\n",
    "        saat = line[11:19].strip()\n",
    "        enlem = line[20:28].strip()\n",
    "        boylam = line[29:37].strip()\n",
    "        derinlik = line[38:50].strip()\n",
    "        ml = line[60:64].strip()\n",
    "        yer = line[67:113].strip()\n",
    "        cozum = line[113:].strip()\n",
    "\n",
    "        koordinatList.append((enlem, boylam))\n",
    "        buyuklukList.append(ml)\n",
    "        tarihList.append(tarih)\n",
    "        saatList.append(saat)\n",
    "        derinlikList.append(derinlik)"
   ]
  },
  {
   "cell_type": "code",
   "execution_count": 10,
   "id": "e634652176527a68",
   "metadata": {
    "ExecuteTime": {
     "end_time": "2025-04-28T16:13:35.039156Z",
     "start_time": "2025-04-28T16:13:35.033769Z"
    }
   },
   "outputs": [],
   "source": [
    "color_dict = {\n",
    "    0: '#ffffff',\n",
    "    1: '#ffffff',\n",
    "    2: '#bfccff',\n",
    "    3: '#99f',\n",
    "    4: '#8ff',\n",
    "    5: '#7df894',\n",
    "    6: '#ff0',\n",
    "    7: '#fd0',\n",
    "    8: '#ff9100',\n",
    "    9: '#f00'\n",
    "}"
   ]
  },
  {
   "cell_type": "code",
   "execution_count": 12,
   "id": "4224820991bcd8e4",
   "metadata": {
    "ExecuteTime": {
     "end_time": "2025-04-28T16:15:09.189324Z",
     "start_time": "2025-04-28T16:15:08.537438Z"
    }
   },
   "outputs": [],
   "source": [
    "m = folium.Map(location=[38.76534530779815, 35.44033727686726], zoom_start=6, min_zoom=6, tiles='OpenStreetMap')\n",
    "minimap = plugins.MiniMap().add_to(m)\n",
    "for i in range(len(koordinatList)):\n",
    "    x_koordinati = float(koordinatList[i][0])\n",
    "    y_koordinati = float(koordinatList[i][1])\n",
    "    bilgi = '''\n",
    "    Tarih: {}\n",
    "    Saat: {}\n",
    "    Derinlik: {} km\n",
    "    Büyüklük: {} ML\n",
    "    '''.format(tarihList[i], saatList[i], derinlikList[i], buyuklukList[i])\n",
    "\n",
    "    iframe = folium.IFrame(bilgi)\n",
    "    popup = folium.Popup(iframe, min_width=150, max_width=250)\n",
    "\n",
    "    folium.Circle(radius=float(buyuklukList[i]) * 1000,\n",
    "                  location=[x_koordinati, y_koordinati],\n",
    "                  color='crimson',\n",
    "                  fill_color=color_dict[int(float(buyuklukList[i]))],\n",
    "                  popup=popup).add_to(m)\n",
    "\n",
    "now = datetime.now()\n",
    "# kayıt işlemi\n",
    "m.save(f\"son_{now.strftime(\"%Y-%m_%d_%H_%M_%S\")}_deprem.html\")"
   ]
  }
 ],
 "metadata": {
  "kernelspec": {
   "display_name": "Python 3 (ipykernel)",
   "language": "python",
   "name": "python3"
  },
  "language_info": {
   "codemirror_mode": {
    "name": "ipython",
    "version": 3
   },
   "file_extension": ".py",
   "mimetype": "text/x-python",
   "name": "python",
   "nbconvert_exporter": "python",
   "pygments_lexer": "ipython3",
   "version": "3.13.2"
  }
 },
 "nbformat": 4,
 "nbformat_minor": 5
}
